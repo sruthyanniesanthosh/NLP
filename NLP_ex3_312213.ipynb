{
 "cells": [
  {
   "cell_type": "markdown",
   "metadata": {
    "id": "Q1c5cv2w2ImO"
   },
   "source": [
    "# Practical exercise 1 - Tokenizing with NLTK/SoMaJo; the distribution of tokens\n",
    "\n"
   ]
  },
  {
   "cell_type": "markdown",
   "metadata": {
    "id": "AjMLbnh61qG4"
   },
   "source": [
    "# 1. Data preparation\n",
    "\n",
    "In this exercise we use a dataset described in the following paper:\n",
    "\n",
    "> Schmidt, T., Hartl, P., Ramsauer, D., Fischer, T., Hilzenthaler, A. & Wolff, C. (2020). Acquisition and Analysis of a Meme Corpus to Investigate Web Culture. In 15th Annual International Conference of the Alliance of Digital Humanities Organizations, DH 2020, Conference Abstracts. Ottawa, Canada.\n",
    "\n",
    "\n",
    "The dataset can be found on https://github.com/lauchblatt/Memes_DH2020. The following code downloads it automatically."
   ]
  },
  {
   "cell_type": "code",
   "execution_count": 1,
   "metadata": {
    "colab": {
     "base_uri": "https://localhost:8080/"
    },
    "id": "F3j0JhDC53tj",
    "outputId": "64a7350c-c554-469c-d0a5-270cb1dd1b9c"
   },
   "outputs": [
    {
     "name": "stdout",
     "output_type": "stream",
     "text": [
      "read 6906 meme texts; 585405 characters in total\n"
     ]
    }
   ],
   "source": [
    "import csv\n",
    "import codecs\n",
    "import urllib.request\n",
    "\n",
    "data_url = 'https://raw.githubusercontent.com/lauchblatt/Memes_DH2020/main/Meme_Corpus%20-%20memes.csv'\n",
    "\n",
    "texts = []\n",
    "with urllib.request.urlopen(data_url) as csvfile:\n",
    "    reader = csv.DictReader(codecs.iterdecode(csvfile, 'utf-8'))\n",
    "    for row in reader:\n",
    "        texts.append(row['text'])\n",
    "\n",
    "# remove memes without text\n",
    "texts = [text for text in texts if text!=\"NA\" and text.strip()]\n",
    "\n",
    "print(f'read {len(texts)} meme texts; {sum([len(text) for text in texts])} characters in total')"
   ]
  },
  {
   "cell_type": "markdown",
   "metadata": {
    "id": "qFq3un66D_lY"
   },
   "source": [
    "Let us look at a few entries:"
   ]
  },
  {
   "cell_type": "code",
   "execution_count": 2,
   "metadata": {
    "colab": {
     "base_uri": "https://localhost:8080/"
    },
    "id": "SVCK2k4mDhoB",
    "outputId": "9aa17edf-4833-4f6c-da9d-711c9504e64e"
   },
   "outputs": [
    {
     "name": "stdout",
     "output_type": "stream",
     "text": [
      "Yo dawg we heard yo like multilasers so\n",
      "we put multilasers on yo multilasers so\n",
      "you can fire your multilasers while you fire\n",
      "your multilasers!!!!\n",
      "\n",
      "###\n",
      "mainf.cpp\n",
      "50 DALl5 HEARD SOU LKE\n",
      "OnPuTING.\n",
      "#include\n",
      "<iostream>\n",
      "#include <stdlib.h>\n",
      "using namespace std;\n",
      "int factorial(int i)\n",
      "if (1-0) return 1;\n",
      "if (i>0) return i*factorial(i-1)\n",
      "SO IPUTA FUNCTION SOUR FUNETION\n",
      "SO YOU CRN CORPUTE邑HILE yUU CORPUTE.\n",
      "Wİ\n",
      "\n",
      "###\n",
      "F SEEN C\n",
      "\n",
      "###\n",
      "YO DAWG\n",
      "SO I HEARD YOU LIKE\n",
      "VIDEO GAMES\n",
      "GAME\n",
      "Ou\n",
      "陳\n",
      ".\n",
      "12\n",
      "3\n",
      "\n",
      "###\n",
      "BABY S\n",
      "FRST\n",
      "IS PREGNANT\n",
      "TOO!\n",
      "\n",
      "###\n",
      "LOOONG\n",
      "Click to View\n",
      "\n",
      "###\n",
      "YO DAWG WE HERD YOU LIKE ARROWS SO WE PUT AN ARROW IN YO KNEE SO\n",
      "YOU CAN STOP BEING AND ADVENTURER WHILE U STOP ADVENTURING\n",
      "\n",
      "###\n",
      "Why Kzibit says \"yo dawg\"\n",
      "ALIENSH\n",
      "HD\n",
      "HISTORY.COM\n",
      "\n"
     ]
    }
   ],
   "source": [
    "print('\\n###\\n'.join(texts[4022:4030]))"
   ]
  },
  {
   "cell_type": "markdown",
   "metadata": {
    "id": "uJx5aDt-5f5c"
   },
   "source": [
    "Note: this is very strange data but should suffice for this exercise!"
   ]
  },
  {
   "cell_type": "markdown",
   "metadata": {
    "id": "EmpxRhaV_D2b"
   },
   "source": [
    "# 2. Data processing\n",
    "\n",
    "## Tokenizing with SoMaJo\n",
    "\n",
    "We can assume that every meme consists of one \"sentence\". To further split these into single words we have to tokenize the data.\n",
    "\n",
    "We can use the SoMaJo tokenizer which was developed especially for social media data and is easy to use.\n",
    "\n",
    "https://github.com/tsproisl/SoMaJo\n",
    "\n",
    "more info on the system: https://www.aclweb.org/anthology/W16-2607.pdf"
   ]
  },
  {
   "cell_type": "code",
   "execution_count": 3,
   "metadata": {
    "colab": {
     "base_uri": "https://localhost:8080/"
    },
    "id": "4w5I-4DPBc4k",
    "outputId": "88de9a6c-36bf-4d09-b3e3-80b4901c434f"
   },
   "outputs": [
    {
     "name": "stdout",
     "output_type": "stream",
     "text": [
      "Collecting SoMaJo\n",
      "  Downloading SoMaJo-2.2.1-py3-none-any.whl (90 kB)\n",
      "\u001b[2K     \u001b[90m━━━━━━━━━━━━━━━━━━━━━━━━━━━━━━━━━━━━━━━━\u001b[0m \u001b[32m90.5/90.5 KB\u001b[0m \u001b[31m2.7 MB/s\u001b[0m eta \u001b[36m0:00:00\u001b[0m\n",
      "\u001b[?25hRequirement already satisfied: regex>=2019.02.18 in /opt/anaconda3/lib/python3.8/site-packages (from SoMaJo) (2022.3.15)\n",
      "Installing collected packages: SoMaJo\n",
      "Successfully installed SoMaJo-2.2.1\n"
     ]
    }
   ],
   "source": [
    "!pip install SoMaJo"
   ]
  },
  {
   "cell_type": "code",
   "execution_count": 4,
   "metadata": {
    "id": "V2ICBAIdBo9l"
   },
   "outputs": [],
   "source": [
    "from somajo import SoMaJo\n",
    "\n",
    "somajo_tokenizer = SoMaJo(language=\"en_PTB\",\n",
    "                          split_camel_case=True)"
   ]
  },
  {
   "cell_type": "code",
   "execution_count": 5,
   "metadata": {
    "id": "E-45d8AcCM9l"
   },
   "outputs": [],
   "source": [
    "data_tok = []\n",
    "for sentence in somajo_tokenizer.tokenize_text(texts):\n",
    "    data_tok.append([token.text for token in sentence])"
   ]
  },
  {
   "cell_type": "code",
   "execution_count": 6,
   "metadata": {
    "colab": {
     "base_uri": "https://localhost:8080/"
    },
    "id": "ykl-epPuEU5T",
    "outputId": "6df57d88-2a0f-4b0f-f820-6f44cfbbe725"
   },
   "outputs": [
    {
     "name": "stdout",
     "output_type": "stream",
     "text": [
      "['MAUI']\n",
      "['Hot', 'Berks', '524', '755', 'Berks', '1084', '1266', '182', 'ratio', 'of', 'diff', '0.787878788', '0.9', '0.8', '0.7', '0.6', '0.5', 'Nostril', '(', 'L', ')', 'Nostril', '(', 'R', ')', '1127', '565', '697', '132', 'ratio', 'of', 'diff', 'y', '-0', '.', '0133x', '0.7671', 'R2', '0.2015', 'diff', '93', '0.704545455', 'Mouth', '(', 'L', 'Mouth', '(', 'Ri', ')', '546', '720', '174', '1110', 'Seriesi', 'Linear', '(', 'Series1', ')', '1235', 'ratio', 'of', 'diff', 'diff', '0.718390805', '0.3', '0.2', '0.1', 'Chin', 'forehead', '669', '39', '630', '568', '83', 'ratio', 'of', 'diff', 'clifi', '0.76984127', '4', '6', '8', '10', 'Mandible', '(', 'L', ')', 'Mandible', '(', 'Ri', '409', '1023', '1339', '316', 'ratio', 'of', 'diff', '0.718181818', '849', 'cliff', 'CONCLUSION', ':', 'PLAUSIBLE', 'Nose', '(', 'Top', ')', '288', '285', '368', '83', 'ratio', 'of', 'diff', '0.546052632', 'Nose', '(', 'Bottom', 'diff', '152', 'Eye', 'Width', '(', 'L', ')', 'X1', 'X2', 'NEA', '572', '98', '474', '1056', '1125', '69', 'ratio', 'of', 'diff', 'clifi', '0.704081633', 'Eye', 'Width', 'X1', 'X2', '(', 'R', ')', '707', '814', '107', '1230', '1306', '76', 'ratio', 'of', 'diff', '0.710280374', 'clifi']\n",
      "['ERMAHGERD', 'M', 'HOT', '.']\n",
      "['GERSBERMS', 'MAH', 'FRAVRIT', 'BERKS']\n",
      "['ERMAHGERD', 'MILK', 'BONE', 'MERLKBEHRNS', 'LARGE']\n",
      "['ERMAHGERD', 'S', 'K', 'LERNERD', 'SKERNERD']\n"
     ]
    }
   ],
   "source": [
    "print(data_tok[0])\n",
    "print(data_tok[1])\n",
    "print(data_tok[2])\n",
    "print(data_tok[3])\n",
    "print(data_tok[4])\n",
    "print(data_tok[5])"
   ]
  },
  {
   "cell_type": "markdown",
   "metadata": {
    "id": "Wtv3RZCw7MV5"
   },
   "source": [
    "## Further data processing\n",
    "\n",
    "For this kind of data, lower-casing everything seems to make sense. In general: this process deletes information and also sometimes meaning; e.g. Apple (company) and apple (fruit) can not be destinguished if we ignore case. However, generalization increases. Thus, you should take this decision conciously and be aware of its effects! "
   ]
  },
  {
   "cell_type": "code",
   "execution_count": 7,
   "metadata": {
    "id": "oaiZupzmHS4b"
   },
   "outputs": [],
   "source": [
    "data_tok = [[token.lower() for token in sentence] for sentence in data_tok]"
   ]
  },
  {
   "cell_type": "code",
   "execution_count": 8,
   "metadata": {
    "colab": {
     "base_uri": "https://localhost:8080/"
    },
    "id": "36ohZEZr9CDr",
    "outputId": "bf4ba516-f858-4373-d3de-c423ca9801c9"
   },
   "outputs": [
    {
     "name": "stdout",
     "output_type": "stream",
     "text": [
      "['maui']\n",
      "['hot', 'berks', '524', '755', 'berks', '1084', '1266', '182', 'ratio', 'of', 'diff', '0.787878788', '0.9', '0.8', '0.7', '0.6', '0.5', 'nostril', '(', 'l', ')', 'nostril', '(', 'r', ')', '1127', '565', '697', '132', 'ratio', 'of', 'diff', 'y', '-0', '.', '0133x', '0.7671', 'r2', '0.2015', 'diff', '93', '0.704545455', 'mouth', '(', 'l', 'mouth', '(', 'ri', ')', '546', '720', '174', '1110', 'seriesi', 'linear', '(', 'series1', ')', '1235', 'ratio', 'of', 'diff', 'diff', '0.718390805', '0.3', '0.2', '0.1', 'chin', 'forehead', '669', '39', '630', '568', '83', 'ratio', 'of', 'diff', 'clifi', '0.76984127', '4', '6', '8', '10', 'mandible', '(', 'l', ')', 'mandible', '(', 'ri', '409', '1023', '1339', '316', 'ratio', 'of', 'diff', '0.718181818', '849', 'cliff', 'conclusion', ':', 'plausible', 'nose', '(', 'top', ')', '288', '285', '368', '83', 'ratio', 'of', 'diff', '0.546052632', 'nose', '(', 'bottom', 'diff', '152', 'eye', 'width', '(', 'l', ')', 'x1', 'x2', 'nea', '572', '98', '474', '1056', '1125', '69', 'ratio', 'of', 'diff', 'clifi', '0.704081633', 'eye', 'width', 'x1', 'x2', '(', 'r', ')', '707', '814', '107', '1230', '1306', '76', 'ratio', 'of', 'diff', '0.710280374', 'clifi']\n",
      "['ermahgerd', 'm', 'hot', '.']\n",
      "['gersberms', 'mah', 'fravrit', 'berks']\n",
      "['ermahgerd', 'milk', 'bone', 'merlkbehrns', 'large']\n",
      "['ermahgerd', 's', 'k', 'lernerd', 'skernerd']\n"
     ]
    }
   ],
   "source": [
    "print(data_tok[0])\n",
    "print(data_tok[1])\n",
    "print(data_tok[2])\n",
    "print(data_tok[3])\n",
    "print(data_tok[4])\n",
    "print(data_tok[5])"
   ]
  },
  {
   "cell_type": "markdown",
   "metadata": {
    "id": "sc74x-tZ_LH0"
   },
   "source": [
    "# 3. Corpus statistics\n",
    "\n",
    "We will use the term \"frequency\" of a word type to express the absolute number of times this word occurs (in any context) in our corpus.\n",
    "\n",
    "Please note the terminological distinction:<br>\n",
    "**token**: Word form occuring in a text. The sentence \"This is it, is it?\" has 7 tokens \\['This', 'is', 'it', ',', 'is', 'it', '?'\\].<br>\n",
    "**type**: Unique word form in a text. The sentence \"This is it, is it?\" has 5 types {',', '?', 'This', 'is', 'it'}<br>\n",
    "A language/vocabulary consists of several word types; a corpus consists of tokens (which are mentions/occurrences of these types)."
   ]
  },
  {
   "cell_type": "code",
   "execution_count": 31,
   "metadata": {
    "id": "PFfJ4gYWL6Qs"
   },
   "outputs": [],
   "source": [
    "# count words and their frequencies\n",
    "from collections import Counter\n",
    "\n",
    "sentences = data_tok\n",
    "\n",
    "words = Counter(word for sentence in sentences for word in sentence)\n",
    "# Note: \"words\" now contains a mapping of words to their frequencies.\n"
   ]
  },
  {
   "cell_type": "code",
   "execution_count": 36,
   "metadata": {
    "colab": {
     "base_uri": "https://localhost:8080/"
    },
    "id": "4yNUCGoQMFIH",
    "outputId": "efe5de34-940b-4f81-a168-49479e392a95"
   },
   "outputs": [
    {
     "name": "stdout",
     "output_type": "stream",
     "text": [
      "Total number of types (unique words): 20152\n",
      "Total number of tokens: 112846\n",
      "Number of types with frequency of occurrence 1: 12674\n",
      "Frequency of token \"manter\": 1\n",
      "Frequency of token \"woman\": 34\n",
      "Frequency of token \"computing\": 0\n",
      "Frequency of token \"meaning\": 14\n",
      "Frequency of token \"!\": 704\n",
      "Frequency of token \"?\": 1060\n"
     ]
    }
   ],
   "source": [
    "# total number of types in the corpus\n",
    "print(f'Total number of types (unique words): {len(words)}')\n",
    "\n",
    "# total number of tokens in the corpus\n",
    "print(f'Total number of tokens: {sum(words.values())}')\n",
    "\n",
    "# how many words occur only once?\n",
    "print(f'Number of types with frequency of occurrence 1: {len([True for word in words if words[word] == 1])}')\n",
    "\n",
    "# show the frequency of some words\n",
    "for word in ('manter', 'woman', 'computing', 'meaning', '!', '?'):\n",
    "    print(f'Frequency of token \"{word}\": {words[word]}')"
   ]
  },
  {
   "cell_type": "code",
   "execution_count": 37,
   "metadata": {
    "colab": {
     "base_uri": "https://localhost:8080/"
    },
    "id": "PHyrQuM5Mnoz",
    "outputId": "a938036c-7d4d-429f-f28b-39c3eb7c635d"
   },
   "outputs": [
    {
     "name": "stdout",
     "output_type": "stream",
     "text": [
      "the most frequent words:\n",
      "['the', ',', 'you', '.', 'a', 'to', 'i', 'of', 'in', '?', 'and', 'is', 'so', 'my', 'it', 'like', 'yo', 'your', '!', 'that']\n",
      "\n",
      "some infrequent words:\n",
      "['prョ', 'bigbag', 'ouu', 'favre', 'webb', 'basetgod', 'asedegod', 'lurkda', 'ank', 'manter']\n"
     ]
    }
   ],
   "source": [
    "sorted_words = sorted(words, key=lambda word: words[word], reverse=True)\n",
    "\n",
    "print('the most frequent words:')\n",
    "print(sorted_words[:20])\n",
    "\n",
    "print('\\nsome infrequent words:')\n",
    "print(sorted_words[-10:])"
   ]
  },
  {
   "cell_type": "code",
   "execution_count": 47,
   "metadata": {
    "id": "CPgFbGDGQbBi"
   },
   "outputs": [],
   "source": [
    "#######################################################\n",
    "### EXERCISE (see tasks at the end of the notebook) ###\n",
    "#######################################################\n",
    "\n",
    "# You should assign each word a rank according to the sorting by its frequency (i.e. the most \n",
    "# frequent word gets rank 1, the 2nd most frequent word gets rank 2, etc.).\n",
    "# The \"ranks\" dictionary should map each word to its frequency rank.\n",
    "ranks = {}\n",
    "i=1\n",
    "for word in sorted_words:\n",
    "    ranks.update({word : i})\n",
    "    i+=1\n",
    "#print(ranks)\n",
    "\n",
    "# Assign each word rank the word frequency (i.e., for example, if the word on rank 10 (= the 10th \n",
    "# most frequent word) occurs 500 times, the resulting dictionary should map 10 to 500.) \n",
    "# The \"frequency_ranks\" dictionary should save a mapping from ranks to frequencies.\n",
    "frequency_ranks = {}\n",
    "j=1\n",
    "for word in sorted_words:\n",
    "    frequency_ranks.update({j:words[word]})\n",
    "    j+=1\n",
    "    \n",
    "#print(frequency_ranks)"
   ]
  },
  {
   "cell_type": "markdown",
   "metadata": {
    "id": "q_pr3Gi8O3qg"
   },
   "source": [
    "# 4. Plotting Word Distribution\n",
    "\n",
    "Zipf's law states that: \\begin{equation}\\textit{occurrence_probability}(\\textit{word}) = \\frac{c}{\\text{rank}(\\textit{word})}\\end{equation}\n",
    "In other words: the occurrence probability of a word is inversely proportional to its frequency rank (with a corpus specific constant c).\n",
    "\n",
    "We can compute the occurrence probability of a word based on corpus data as follows:\n",
    "\\begin{equation}\n",
    "    \\textit{occurrence_probability}(\\textit{word}) = \\frac{\\textit{frequency of occurrence}(\\textit{word})}{\\textit{number of all words}}\n",
    "\\end{equation}\n",
    "For example, when a word occurs 20 times in a corpus of 100 tokens, its occurrence_probability is $0.2$.\n",
    "\n",
    "Above we calculated the frequency of occurrence of each word in our data. We now want to plot this value against the rank using Zipf's law and the formulae above.\n",
    "\n",
    "\\begin{equation}\n",
    "\\frac{\\textit{frequency of occurrence}(\\textit{word})}{\\textit{number of all words}} = \\frac{c}{\\text{rank}(\\textit{word})}\n",
    "\\end{equation}\n",
    "\n",
    "\\begin{equation}\n",
    "\\textit{frequency of occurrence}(\\textit{word}) = \\frac{c * \\textit{number of all words}}{\\text{rank}(\\textit{word})}\n",
    "\\end{equation}\n",
    "\n",
    "Thus, if we want to plot the frequency on the y-axis, for any given rank $x$, the plot should display:\n",
    "\\begin{equation}\n",
    "f(x) = y = \\frac{c * \\textit{number of all words}}{x}\n",
    "\\end{equation}\n"
   ]
  },
  {
   "cell_type": "code",
   "execution_count": 61,
   "metadata": {
    "colab": {
     "base_uri": "https://localhost:8080/",
     "height": 265
    },
    "id": "9RAAfh2_O_R_",
    "outputId": "39d9f536-826b-44cb-909b-d4e2d71c72ee"
   },
   "outputs": [
    {
     "data": {
      "image/png": "[encoded data removed]",
      "text/plain": [
       "<Figure size 432x288 with 1 Axes>"
      ]
     },
     "metadata": {
      "needs_background": "light"
     },
     "output_type": "display_data"
    }
   ],
   "source": [
    "import numpy as np\n",
    "import matplotlib.pylab as plt\n",
    "%matplotlib inline\n",
    "\n",
    "# set the constant c to some value for now\n",
    "c = 0.03\n",
    "\n",
    "# x-axis range:\n",
    "n_minimum = 1\n",
    "n_limit = 20160\n",
    "\n",
    "# plot Zipf\n",
    "x_zipf = np.array(range(n_minimum, n_limit + 1))\n",
    "y_zipf = c * sum(words.values())/x_zipf  # this is the last formula above\n",
    "plt.plot(x_zipf, y_zipf, label='Zipf')\n",
    "# Note: this is what Zipf's law claims - we did not test it with our data yet.\n",
    "\n",
    "# here we plot the meme data (using the values from the cell above)\n",
    "if frequency_ranks:\n",
    "    lists = sorted(frequency_ranks.items())\n",
    "    x, y = zip(*lists)\n",
    "    plt.plot(x[n_minimum:n_limit], y[n_minimum:n_limit], label='Meme data')\n",
    "\n",
    "plt.legend()\n",
    "plt.show()"
   ]
  },
  {
   "cell_type": "markdown",
   "metadata": {
    "id": "oLTI-vUSEE7E"
   },
   "source": [
    "#5. Collocations\n",
    "\n",
    "A collocation is \"a combination of words in a language that happens very often and more frequently than would happen by chance\".<br>\n",
    "These combinations are especially meaningful; there usually is a strong connection between the words; the words in combination often lead a new combined meaning; strong collocations can be considered lexical items.\n"
   ]
  },
  {
   "cell_type": "markdown",
   "metadata": {
    "id": "PRNa3XLGFkF3"
   },
   "source": [
    "## 5.1 Co-occuring word pairs\n",
    "\n",
    "We only have the frequencies of individual words so far.\n",
    "\n",
    "To compute collocation measure we need frequencies of co-occurring word pairs.\n",
    "\n",
    "For example, the tokenized sentence ['This', 'is', 'it', ',', 'is', 'it', '?']. has the following co-occuring word pairs:\n",
    "- ('This', 'is') frequency 1\n",
    "- ('is', 'it') frequency 2\n",
    "- ('it', ',') frequency 1\n",
    "- (',', 'is') frequency 1\n",
    "- ('it', '?') frequency 1\n",
    "\n",
    "Note that the sentence has 7 tokens, thus, 6 co-occurring word pairs (also known as bigrams), however, one of those occurs twice.\n",
    "\n",
    "We now count these for our entire corpus."
   ]
  },
  {
   "cell_type": "code",
   "execution_count": 14,
   "metadata": {
    "id": "B_KZ-Cw2EEJs"
   },
   "outputs": [],
   "source": [
    "from collections import Counter\n",
    "\n",
    "all_word_pairs = Counter((word, sentence[index+1])\n",
    "                         for sentence in sentences\n",
    "                         for index, word in enumerate(sentence)\n",
    "                         if index+1 < len(sentence))"
   ]
  },
  {
   "cell_type": "code",
   "execution_count": null,
   "metadata": {
    "colab": {
     "base_uri": "https://localhost:8080/"
    },
    "id": "A1IjS4NYF5BC",
    "outputId": "798857a8-9891-4f84-e8ca-153b9ae9f517"
   },
   "outputs": [
    {
     "name": "stdout",
     "output_type": "stream",
     "text": [
      "The 10 most frequent word pairs:\n",
      "[(('yo', 'dawg'), 390), (('you', 'like'), 325), (('you', 'can'), 262), (('so', 'we'), 260), (('so', 'you'), 247), ((',', 'i'), 222), (('dat', 'ass'), 216), (('while', 'you'), 201), (('heard', 'you'), 196), (('we', 'put'), 193)]\n",
      "\n",
      "The number of unique word pairs: 64778\n",
      "\n",
      "The number of unique word pairs with a frequency greater than 1:\n",
      "13243\n"
     ]
    }
   ],
   "source": [
    "# let us look at some\n",
    "print('The 10 most frequent word pairs:')\n",
    "print(sorted(all_word_pairs.items(), key=lambda pair: pair[1], reverse=True)[:10])\n",
    "\n",
    "print(f'\\nThe number of unique word pairs: {len(all_word_pairs)}')\n",
    "\n",
    "print('\\nThe number of unique word pairs with a frequency greater than 1:')\n",
    "print(len([pair for pair, frequency in all_word_pairs.items() if frequency > 1]))"
   ]
  },
  {
   "cell_type": "code",
   "execution_count": 18,
   "metadata": {
    "colab": {
     "base_uri": "https://localhost:8080/"
    },
    "id": "xq_UG2l-G0ds",
    "outputId": "b43a7a63-7d51-4125-d834-ead3663d496d"
   },
   "outputs": [
    {
     "name": "stdout",
     "output_type": "stream",
     "text": [
      "number of remaining word pairs: 1949\n"
     ]
    }
   ],
   "source": [
    "# to make it computationally feasible, only analyze word pairs with freq > some threshold\n",
    "# you might have to increase this value if running the cells in 5.2 take too long to finish\n",
    "threshold = 5\n",
    "word_pairs = {word_pair: frequency for word_pair, frequency in all_word_pairs.items() \n",
    "              if frequency >= threshold}\n",
    "print(f'number of remaining word pairs: {len(word_pairs)}')\n",
    "#word_pairs"
   ]
  },
  {
   "cell_type": "markdown",
   "metadata": {
    "id": "IJJNyUdMHV9M"
   },
   "source": [
    "## 5.2 Collocation measures\n",
    "\n",
    "Above we actually used the most basic collocation measure: the frequency $o_{11}$ of the co-occurring word pair.\n",
    "\n",
    "Now we will compute the entire contingency table for each of the co-occuring word pairs (this might take a few seconds)."
   ]
  },
  {
   "cell_type": "code",
   "execution_count": 19,
   "metadata": {
    "id": "o_epuAMaHVn9"
   },
   "outputs": [],
   "source": [
    "from collections import defaultdict\n",
    "\n",
    "o11 = word_pairs\n",
    "o12 = defaultdict(int)\n",
    "o21 = defaultdict(int)\n",
    "o22 = defaultdict(int)\n",
    "\n",
    "for word_pair in word_pairs:\n",
    "    word1, word2 = word_pair\n",
    "    for other_word_pair in word_pairs:\n",
    "        other_word1, other_word2 = other_word_pair\n",
    "        if word1 == other_word1:\n",
    "            if word2 != other_word2:\n",
    "                o12[word_pair] += word_pairs[other_word_pair]\n",
    "            else:\n",
    "                # we already have this case in word_pairs\n",
    "                pass\n",
    "        else:\n",
    "            if word2 == other_word2:\n",
    "                o21[word_pair] += word_pairs[other_word_pair]\n",
    "            else:\n",
    "                o22[word_pair] += word_pairs[other_word_pair]\n",
    "\n",
    "# set min value to 1\n",
    "for pair in word_pair:\n",
    "    for cell in (o12, o21, o22):\n",
    "        if not cell[word_pair]:\n",
    "            cell[word_pair] = 1\n",
    "\n",
    "contingency_tables = {'o11': o11, 'o12': o12, 'o21': o21, 'o22': o22}"
   ]
  },
  {
   "cell_type": "code",
   "execution_count": 20,
   "metadata": {
    "id": "jJy5eIfuH1OU"
   },
   "outputs": [],
   "source": [
    "# A function to print highest ranked collocations, using a given collocation measure to compute ranking\n",
    "def print_highest_ranked_collocations(measure, top=10, tables=contingency_tables):\n",
    "    for pair in sorted(tables['o11'], key=lambda word_pair: measure(word_pair, tables), reverse=True)[:top]:\n",
    "        print((pair, tables['o11'][pair]))"
   ]
  },
  {
   "cell_type": "code",
   "execution_count": 21,
   "metadata": {
    "colab": {
     "base_uri": "https://localhost:8080/"
    },
    "id": "kvt0uQxgIQlS",
    "outputId": "f62f7b8b-3f91-4d9f-8520-38e166d2b7b5"
   },
   "outputs": [
    {
     "name": "stdout",
     "output_type": "stream",
     "text": [
      "(('yo', 'dawg'), 390)\n",
      "(('you', 'like'), 325)\n",
      "(('you', 'can'), 262)\n",
      "(('so', 'we'), 260)\n",
      "(('so', 'you'), 247)\n",
      "((',', 'i'), 222)\n",
      "(('dat', 'ass'), 216)\n",
      "(('while', 'you'), 201)\n",
      "(('heard', 'you'), 196)\n",
      "(('we', 'put'), 193)\n",
      "(('in', 'the'), 189)\n",
      "(('of', 'the'), 185)\n",
      "(('put', 'a'), 173)\n",
      "(('i', 'heard'), 148)\n",
      "((',', 'so'), 146)\n",
      "(('dawg', ','), 142)\n",
      "(('i', \"'m\"), 138)\n",
      "(('in', 'your'), 135)\n",
      "(('dawg', 'i'), 135)\n",
      "(('i', 'herd'), 127)\n"
     ]
    }
   ],
   "source": [
    "def frequency(word_pair, tables):\n",
    "    pair_o11 = tables['o11'][word_pair]\n",
    "    return pair_o11\n",
    "\n",
    "print_highest_ranked_collocations(frequency, top=20)"
   ]
  },
  {
   "cell_type": "code",
   "execution_count": 45,
   "metadata": {
    "colab": {
     "base_uri": "https://localhost:8080/"
    },
    "id": "pJUmsfc9H7gj",
    "outputId": "6b8dcd8f-c063-4208-af64-2013a0c66c0e"
   },
   "outputs": [
    {
     "name": "stdout",
     "output_type": "stream",
     "text": [
      "(('fall', 'asleep'), 5)\n",
      "(('days', 'later'), 5)\n",
      "(('forever', 'alone'), 5)\n",
      "(('little', 'pony'), 5)\n",
      "(('best', 'friend'), 5)\n",
      "(('birthday', 'party'), 5)\n",
      "(('nice', 'gane'), 5)\n",
      "(('runs', 'marathon'), 5)\n",
      "(('aliensh', 'hd'), 5)\n",
      "(('ze', 'urger.com'), 5)\n",
      "(('tap', '*'), 5)\n",
      "(('onion', 'ring'), 5)\n",
      "(('profile', 'pictures'), 5)\n",
      "(('highest', 'place'), 5)\n",
      "(('something', 'sharp'), 5)\n",
      "(('page', 'contents'), 5)\n",
      "(('contents', 'featured'), 5)\n",
      "(('current', 'events'), 5)\n",
      "(('events', 'random'), 5)\n",
      "(('random', 'article'), 5)\n"
     ]
    }
   ],
   "source": [
    "import math\n",
    "\n",
    "# mutual information\n",
    "def mi(word_pair, tables):\n",
    "    pair_o11 = tables['o11'][word_pair]\n",
    "    pair_o12 = tables['o12'][word_pair]\n",
    "    pair_o21 = tables['o21'][word_pair]\n",
    "    pair_o22 = tables['o22'][word_pair]\n",
    "    \n",
    "    pair_R1 = pair_o11 + pair_o12\n",
    "    pair_C1 = pair_o11 + pair_o21\n",
    "    pair_N = pair_o11 + pair_o12 + pair_o21 + pair_o22\n",
    "    pair_e11 = pair_R1 * pair_C1 / float(pair_N)\n",
    "    \n",
    "    return math.log(pair_o11/pair_e11)\n",
    "\n",
    "print_highest_ranked_collocations(mi, top=20)"
   ]
  },
  {
   "cell_type": "markdown",
   "metadata": {
    "id": "RSoa6Rs8-79i"
   },
   "source": [
    "# 6. Exercises\n",
    "\n",
    "1.   Plotting your distribution\n",
    "\n",
    "    1.   Assign each word a rank according to the sorting by its frequency (i.e. the most frequent word gets rank 1, the 2nd most frequent word gets rank 2, etc.).\n",
    "\n",
    "    2.   Assign each word rank the word frequency (i.e., for example, if the word on rank 10 (= the 10th most frequent word) occurs 500 times, the resulting dictionary should map 10 to 500.) You should save the result in the variable 'frequency_ranks', see above.\n",
    "\n",
    "    3.   Plot your distribution together with Zipf's Law (if you defined the variable 'frequency_ranks' correctly, the code in 4. should do that). Modify the constant 'c' so the Zipf-plot fits to your data (approximately). You might also have to modify n_minimum and n_limit slightly so you can see it better.\n",
    "\n",
    "2.   Collocations\n",
    "\n",
    "    1.   Compare the number of unique word pairs to the number of unique words in our data. What do you observe? Is this expected? Why?\n",
    "    2.   Would you expect the distribution of unique word pairs also to follow Zipf’s law? Why (not)?\n",
    "    3.   Look at the top results extracted using the frequency measure. Do you think the definition of a collocation holds for these word pairs? Are these really collocations? Why (not)? What are issues when using just the frequency of word pairs as collocation measure?\n",
    "    4.   **(This is the main task of this exercise!)** Familiarize yourself with the language in this meme dataset. Write down 10 collocations for this data, i.e. pairs of words which you think are very strongly connected here (they do not really occur in other context and have a special meaning together). Implement a few (at least 5 in total) other collocation measures (http://collocations.de/AM/index.html). Which of these measures predicts the most of your 10 collocations in its top 100 results?\n",
    "\n"
   ]
  },
  {
   "cell_type": "markdown",
   "metadata": {
    "id": "gTzvpnPA_C5S"
   },
   "source": [
    "## Answers\n"
   ]
  },
  {
   "cell_type": "markdown",
   "metadata": {},
   "source": [
    "### 1A - Assign each word a rank according to its frequency.\n",
    "\n"
   ]
  },
  {
   "cell_type": "code",
   "execution_count": 62,
   "metadata": {},
   "outputs": [],
   "source": [
    "#The \"ranks\" dictionary  map each word to its frequency rank.\n",
    "ranks = {}\n",
    "i=1\n",
    "for word in sorted_words: #sorted words contain all the words sorted by its frequency\n",
    "    ranks.update({word : i})\n",
    "    i+=1\n",
    "#print(ranks)"
   ]
  },
  {
   "cell_type": "markdown",
   "metadata": {},
   "source": [
    "### 1B - Assign each word rank , the word frequency"
   ]
  },
  {
   "cell_type": "code",
   "execution_count": 63,
   "metadata": {},
   "outputs": [],
   "source": [
    "# The \"frequency_ranks\" dictionary  save a mapping from ranks to frequencies.\n",
    "frequency_ranks = {}\n",
    "j=1\n",
    "\n",
    "#taking the frequency of words from words dict, using the sorted order\n",
    "for word in sorted_words:\n",
    "    frequency_ranks.update({j:words[word]})\n",
    "    j+=1\n",
    "    \n",
    "#print(frequency_ranks)"
   ]
  },
  {
   "cell_type": "markdown",
   "metadata": {},
   "source": [
    "### 1C - Plotting distribution together with Zipf's Law"
   ]
  },
  {
   "cell_type": "code",
   "execution_count": 68,
   "metadata": {},
   "outputs": [
    {
     "data": {
      "image/png": "[encoded data removed]",
      "text/plain": [
       "<Figure size 432x288 with 1 Axes>"
      ]
     },
     "metadata": {
      "needs_background": "light"
     },
     "output_type": "display_data"
    }
   ],
   "source": [
    "# set the constant c to value which fits the lines\n",
    "c = 0.035\n",
    "\n",
    "# x-axis range:\n",
    "n_minimum = 1\n",
    "n_limit = 20160\n",
    "\n",
    "# plot Zipf\n",
    "x_zipf = np.array(range(n_minimum, n_limit + 1))\n",
    "y_zipf = c * sum(words.values())/x_zipf  # this is the last formula above\n",
    "plt.plot(x_zipf, y_zipf, label='Zipf')\n",
    "# Note: this is what Zipf's law claims - we did not test it with our data yet.\n",
    "\n",
    "# here we plot the meme data (using the values from the cell above)\n",
    "if frequency_ranks:\n",
    "    lists = sorted(frequency_ranks.items())\n",
    "    x, y = zip(*lists)\n",
    "    plt.plot(x[n_minimum:n_limit], y[n_minimum:n_limit], label='Meme data')\n",
    "\n",
    "plt.xlabel(\"rank of words\")\n",
    "plt.ylabel(\"frequency of words\")\n",
    "plt.legend()\n",
    "plt.show()"
   ]
  },
  {
   "cell_type": "markdown",
   "metadata": {},
   "source": [
    "We observe that the orange line fits with the blue line for c =0.035. We see that the rank 1 has freq< 5000. \n",
    "\n",
    "Hence Zipf's law holds. "
   ]
  },
  {
   "cell_type": "markdown",
   "metadata": {},
   "source": [
    "### 2A -  Comparison of number of unique word pairs and number of unique words\n",
    "\n"
   ]
  },
  {
   "cell_type": "code",
   "execution_count": 70,
   "metadata": {},
   "outputs": [
    {
     "name": "stdout",
     "output_type": "stream",
     "text": [
      "\n",
      "The number of unique word pairs: 64778\n",
      "Total number of types (unique words): 20152\n"
     ]
    }
   ],
   "source": [
    "print(f'\\nThe number of unique word pairs: {len(all_word_pairs)}')\n",
    "print(f'Total number of types (unique words): {len(words)}')\n"
   ]
  },
  {
   "cell_type": "markdown",
   "metadata": {},
   "source": [
    "We observe that the number unique word pairs is three times the number of unique words. This is an expected scenario as the number of unique word pairs will be greater than the number of words. Many unique combinations are possible. The total unique pairs possible from 20152 words are 203041476."
   ]
  },
  {
   "cell_type": "markdown",
   "metadata": {},
   "source": [
    "### 2B - Does the unique word pairs follow Zipf's law"
   ]
  },
  {
   "cell_type": "markdown",
   "metadata": {},
   "source": [
    "Yes, the unique word pairs will also follow Zipf's law. The number of word pair with higher frequency will be less.\n",
    "\n",
    "Reference paper: https://aclanthology.org/C02-1117.pdf"
   ]
  },
  {
   "cell_type": "markdown",
   "metadata": {},
   "source": [
    "### 2C - Issues of using frequency as Collocation measure"
   ]
  },
  {
   "cell_type": "markdown",
   "metadata": {},
   "source": [
    "Collocation definition does not hold for the word pairs extracted using frequency measure. These word pairs are not meaningful, i.e, does not make a useful phrase. Hence they are not really collocation. They are just words which were adjacent to each other many times. Thus it doesnot contribute to the meaning or have contextual properties."
   ]
  },
  {
   "cell_type": "markdown",
   "metadata": {},
   "source": [
    "### 2D - Implementing 5 collocation measures "
   ]
  },
  {
   "cell_type": "markdown",
   "metadata": {},
   "source": [
    "Ten meaningful collolaction are - \n",
    "('fall', 'asleep')\n",
    "('days', 'later')\n",
    "('forever', 'alone')\n",
    "('little', 'pony')\n",
    "('best', 'friend')\n",
    "('birthday', 'party')\n",
    "('justin', 'bieber')\n",
    "('hours', 'ago')\n",
    "('runs', 'marathon')\n",
    "('ice', 'cream')\n"
   ]
  },
  {
   "cell_type": "code",
   "execution_count": 87,
   "metadata": {},
   "outputs": [
    {
     "name": "stdout",
     "output_type": "stream",
     "text": [
      "(('yo', 'dawg'), 390)\n",
      "(('dat', 'ass'), 216)\n",
      "(('so', 'we'), 260)\n",
      "(('we', 'put'), 193)\n",
      "(('you', 'like'), 325)\n",
      "(('you', 'can'), 262)\n",
      "(('.', 'ne'), 108)\n",
      "(('hours', 'ago'), 90)\n",
      "(('based', 'god'), 74)\n",
      "(('heard', 'you'), 196)\n",
      "(('while', 'you'), 201)\n",
      "(('put', 'a'), 173)\n",
      "(('do', \"n't\"), 125)\n",
      "(('i', \"'m\"), 138)\n",
      "(('memegenerator', '.'), 97)\n",
      "(('i', 'heard'), 148)\n",
      "(('dawg', ','), 142)\n",
      "(('i', 'herd'), 127)\n",
      "(('grumpy', 'cat'), 45)\n",
      "(('minutes', 'ago'), 54)\n"
     ]
    }
   ],
   "source": [
    " \n",
    "def poisson(word_pair, tables):\n",
    "    pair_o11 = tables['o11'][word_pair]\n",
    "    pair_o12 = tables['o12'][word_pair]\n",
    "    pair_o21 = tables['o21'][word_pair]\n",
    "    pair_o22 = tables['o22'][word_pair]\n",
    "    \n",
    "    pair_R1 = pair_o11 + pair_o12\n",
    "    pair_C1 = pair_o11 + pair_o21\n",
    "    pair_N = pair_o11 + pair_o12 + pair_o21 + pair_o22\n",
    "    pair_e11 = pair_R1 * pair_C1 / float(pair_N)\n",
    "    \n",
    "    x =  math.log(pair_o11) - math.log(pair_e11) - 1\n",
    "    return pair_o11*x\n",
    "\n",
    "print_highest_ranked_collocations(poisson, top=20)"
   ]
  },
  {
   "cell_type": "code",
   "execution_count": 88,
   "metadata": {},
   "outputs": [
    {
     "name": "stdout",
     "output_type": "stream",
     "text": [
      "(('fravrit', 'berks'), 7)\n",
      "(('cheez', 'burger'), 9)\n",
      "(('justin', 'bieber'), 12)\n",
      "(('scumbag', 'steve'), 16)\n",
      "(('fall', 'asleep'), 5)\n",
      "(('blake', 'boston'), 10)\n",
      "(('juliana', 'tamara'), 8)\n",
      "(('days', 'later'), 5)\n",
      "(('ice', 'cream'), 6)\n",
      "(('forever', 'alone'), 5)\n",
      "(('little', 'pony'), 5)\n",
      "(('best', 'friend'), 5)\n",
      "(('birthday', 'party'), 5)\n",
      "(('hide', 'report'), 7)\n",
      "(('nice', 'gane'), 5)\n",
      "(('runs', 'marathon'), 5)\n",
      "(('ridiculously', 'photogenic'), 15)\n",
      "(('anonymous', '08/18/11'), 8)\n",
      "(('tide', 'goes'), 10)\n",
      "(('neil', 'armstrong'), 6)\n"
     ]
    }
   ],
   "source": [
    "def dice(word_pair, tables):\n",
    "    pair_o11 = tables['o11'][word_pair]\n",
    "    pair_o12 = tables['o12'][word_pair]\n",
    "    pair_o21 = tables['o21'][word_pair]\n",
    "    pair_o22 = tables['o22'][word_pair]\n",
    "    \n",
    "    pair_R1 = pair_o11 + pair_o12\n",
    "    pair_C1 = pair_o11 + pair_o21\n",
    "    pair_N = pair_o11 + pair_o12 + pair_o21 + pair_o22\n",
    "    pair_e11 = pair_R1 * pair_C1 / float(pair_N)\n",
    "    \n",
    "    x =  pair_R1 + pair_C1\n",
    "    return 2*pair_o11 / x\n",
    "\n",
    "print_highest_ranked_collocations(dice, top=20)"
   ]
  },
  {
   "cell_type": "code",
   "execution_count": 89,
   "metadata": {},
   "outputs": [
    {
     "name": "stdout",
     "output_type": "stream",
     "text": [
      "(('blake', 'boston'), 10)\n",
      "(('tide', 'goes'), 10)\n",
      "(('28', '29'), 10)\n",
      "(('29', '30'), 10)\n",
      "(('cheez', 'burger'), 9)\n",
      "(('cutie', 'mark'), 9)\n",
      "(('19', '20'), 13)\n",
      "(('fanny', 'fanny'), 14)\n",
      "(('justin', 'bieber'), 12)\n",
      "(('fall', 'asleep'), 5)\n",
      "(('juliana', 'tamara'), 8)\n",
      "(('days', 'later'), 5)\n",
      "(('ice', 'cream'), 6)\n",
      "(('forever', 'alone'), 5)\n",
      "(('little', 'pony'), 5)\n",
      "(('best', 'friend'), 5)\n",
      "(('birthday', 'party'), 5)\n",
      "(('nice', 'gane'), 5)\n",
      "(('runs', 'marathon'), 5)\n",
      "(('ridiculously', 'photogenic'), 15)\n"
     ]
    }
   ],
   "source": [
    "def chi_squared(word_pair, tables):\n",
    "    pair_o11 = tables['o11'][word_pair]\n",
    "    pair_o12 = tables['o12'][word_pair]\n",
    "    pair_o21 = tables['o21'][word_pair]\n",
    "    pair_o22 = tables['o22'][word_pair]\n",
    "    \n",
    "    pair_R1 = pair_o11 + pair_o12\n",
    "    pair_R2 = pair_o21 + pair_o22\n",
    "    pair_C1 = pair_o11 + pair_o21\n",
    "    pair_C2 = pair_o12 + pair_o22\n",
    "    pair_N = pair_o11 + pair_o12 + pair_o21 + pair_o22\n",
    "    pair_e11 = pair_R1 * pair_C1 / float(pair_N)\n",
    "    pair_e22 = pair_R2 * pair_C2 / float(pair_N)\n",
    "    \n",
    "    \n",
    "    x =  pow((pair_o11 - pair_e11),2)*pair_N\n",
    "    return x/( pair_e11*pair_e22)\n",
    "\n",
    "print_highest_ranked_collocations(chi_squared, top=20)"
   ]
  },
  {
   "cell_type": "code",
   "execution_count": 90,
   "metadata": {},
   "outputs": [
    {
     "name": "stdout",
     "output_type": "stream",
     "text": [
      "(('yo', 'dawg'), 390)\n",
      "(('dat', 'ass'), 216)\n",
      "(('we', 'put'), 193)\n",
      "(('so', 'we'), 260)\n",
      "(('based', 'god'), 74)\n",
      "(('hours', 'ago'), 90)\n",
      "(('you', 'like'), 325)\n",
      "(('.', 'ne'), 108)\n",
      "(('you', 'can'), 262)\n",
      "(('grumpy', 'cat'), 45)\n",
      "(('big', 'chungus'), 37)\n",
      "(('portable', 'atrocities'), 30)\n",
      "(('encapsulated', 'en'), 24)\n",
      "(('heard', 'you'), 196)\n",
      "(('has', 'cheezburger'), 49)\n",
      "(('while', 'you'), 201)\n",
      "(('minutes', 'ago'), 54)\n",
      "(('put', 'a'), 173)\n",
      "(('do', \"n't\"), 125)\n",
      "(('scumbag', 'steve'), 16)\n"
     ]
    }
   ],
   "source": [
    "def mi3(word_pair, tables):\n",
    "    pair_o11 = tables['o11'][word_pair]\n",
    "    pair_o12 = tables['o12'][word_pair]\n",
    "    pair_o21 = tables['o21'][word_pair]\n",
    "    pair_o22 = tables['o22'][word_pair]\n",
    "    \n",
    "    pair_R1 = pair_o11 + pair_o12\n",
    "    pair_C1 = pair_o11 + pair_o21\n",
    "    pair_N = pair_o11 + pair_o12 + pair_o21 + pair_o22\n",
    "    pair_e11 = pair_R1 * pair_C1 / float(pair_N)\n",
    "    \n",
    "    x =  pow(pair_o11,3)/pair_e11\n",
    "    return math.log(x)\n",
    "\n",
    "print_highest_ranked_collocations(mi3, top=20)"
   ]
  },
  {
   "cell_type": "code",
   "execution_count": 91,
   "metadata": {},
   "outputs": [
    {
     "name": "stdout",
     "output_type": "stream",
     "text": [
      "(('fravrit', 'berks'), 7)\n",
      "(('cheez', 'burger'), 9)\n",
      "(('justin', 'bieber'), 12)\n",
      "(('scumbag', 'steve'), 16)\n",
      "(('fall', 'asleep'), 5)\n",
      "(('blake', 'boston'), 10)\n",
      "(('juliana', 'tamara'), 8)\n",
      "(('days', 'later'), 5)\n",
      "(('ice', 'cream'), 6)\n",
      "(('forever', 'alone'), 5)\n",
      "(('little', 'pony'), 5)\n",
      "(('best', 'friend'), 5)\n",
      "(('birthday', 'party'), 5)\n",
      "(('hide', 'report'), 7)\n",
      "(('nice', 'gane'), 5)\n",
      "(('runs', 'marathon'), 5)\n",
      "(('ridiculously', 'photogenic'), 15)\n",
      "(('anonymous', '08/18/11'), 8)\n",
      "(('tide', 'goes'), 10)\n",
      "(('neil', 'armstrong'), 6)\n"
     ]
    }
   ],
   "source": [
    "def jaccard(word_pair, tables):\n",
    "    pair_o11 = tables['o11'][word_pair]\n",
    "    pair_o12 = tables['o12'][word_pair]\n",
    "    pair_o21 = tables['o21'][word_pair]\n",
    "    pair_o22 = tables['o22'][word_pair]\n",
    "    \n",
    "    pair_R1 = pair_o11 + pair_o12\n",
    "    pair_C1 = pair_o11 + pair_o21\n",
    "    pair_N = pair_o11 + pair_o12 + pair_o21 + pair_o22\n",
    "    pair_e11 = pair_R1 * pair_C1 / float(pair_N)\n",
    "    \n",
    "    x =  pair_o11 + pair_o12 + pair_o21\n",
    "    return pair_o11 / x\n",
    "\n",
    "print_highest_ranked_collocations(jaccard, top=20)"
   ]
  },
  {
   "cell_type": "markdown",
   "metadata": {},
   "source": [
    "We can observe that the measures dice and Jaccard produce the most meaningful results in their top 20. Then comes chi_squared and then $mi^3$ and poisson\n"
   ]
  },
  {
   "cell_type": "code",
   "execution_count": null,
   "metadata": {},
   "outputs": [],
   "source": []
  }
 ],
 "metadata": {
  "colab": {
   "collapsed_sections": [],
   "name": "NLP-2022_exercise3_statistics-collocations.ipynb",
   "provenance": []
  },
  "kernelspec": {
   "display_name": "Python 3 (ipykernel)",
   "language": "python",
   "name": "python3"
  },
  "language_info": {
   "codemirror_mode": {
    "name": "ipython",
    "version": 3
   },
   "file_extension": ".py",
   "mimetype": "text/x-python",
   "name": "python",
   "nbconvert_exporter": "python",
   "pygments_lexer": "ipython3",
   "version": "3.8.8"
  }
 },
 "nbformat": 4,
 "nbformat_minor": 1
}
